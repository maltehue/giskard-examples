{
 "cells": [
  {
   "cell_type": "code",
   "execution_count": 73,
   "metadata": {
    "collapsed": true,
    "pycharm": {
     "name": "#%%\n"
    }
   },
   "outputs": [],
   "source": [
    "import rospy\n",
    "import tf2_ros\n",
    "from geometry_msgs.msg import PoseStamped, Point, Quaternion, Vector3Stamped, PointStamped, Vector3\n",
    "from giskard_msgs.msg import WorldBody, CollisionEntry, WorldGoal, GiskardError\n",
    "from giskardpy.python_interface.python_interface import GiskardWrapper\n",
    "import math\n",
    "from bayes_opt import BayesianOptimization\n",
    "from giskardpy.motion_graph.tasks.task import WEIGHT_BELOW_CA\n",
    "\n",
    "\n",
    "\n",
    "def reset_giskard():\n",
    "    giskard.clear_motion_goals_and_monitors()\n",
    "    giskard.world.clear()\n",
    "    default_pose = {\n",
    "        'r_elbow_flex_joint': -0.15,\n",
    "        'r_forearm_roll_joint': 0,\n",
    "        'r_shoulder_lift_joint': 0,\n",
    "        'r_shoulder_pan_joint': 0,\n",
    "        'r_upper_arm_roll_joint': 0,\n",
    "        'r_wrist_flex_joint': -0.10001,\n",
    "        'r_wrist_roll_joint': 0,\n",
    "        'l_elbow_flex_joint': -0.15,\n",
    "        'l_forearm_roll_joint': 0,\n",
    "        'l_shoulder_lift_joint': 0,\n",
    "        'l_shoulder_pan_joint': 0,\n",
    "        'l_upper_arm_roll_joint': 0,\n",
    "        'l_wrist_flex_joint': -0.10001,\n",
    "        'l_wrist_roll_joint': 0,\n",
    "        'torso_lift_joint': 0.2,\n",
    "        'head_pan_joint': 0,\n",
    "        'head_tilt_joint': 0,\n",
    "        'l_gripper_l_finger_joint': 0.55,\n",
    "        'r_gripper_l_finger_joint': 0.55\n",
    "    }\n",
    "\n",
    "\n",
    "    done = giskard.monitors.add_set_seed_configuration(default_pose)\n",
    "    base_pose = PoseStamped()\n",
    "    base_pose.header.frame_id = 'map'\n",
    "    base_pose.pose.position = Point(0, 0, 0)\n",
    "    base_pose.pose.orientation.w = 1\n",
    "    done2 = giskard.monitors.add_set_seed_odometry(base_pose=base_pose)\n",
    "    giskard.motion_goals.allow_all_collisions()\n",
    "    giskard.monitors.add_end_motion(start_condition=f'{done} and {done2}')\n",
    "    giskard.execute()\n",
    "    giskard.clear_motion_goals_and_monitors()"
   ]
  },
  {
   "cell_type": "code",
   "execution_count": 5,
   "outputs": [],
   "source": [
    "rospy.init_node('giskard_examples')"
   ],
   "metadata": {
    "collapsed": false,
    "pycharm": {
     "name": "#%%\n"
    }
   }
  },
  {
   "cell_type": "code",
   "execution_count": 6,
   "outputs": [],
   "source": [
    "giskard = GiskardWrapper()"
   ],
   "metadata": {
    "collapsed": false,
    "pycharm": {
     "name": "#%%\n"
    }
   }
  },
  {
   "cell_type": "code",
   "execution_count": 92,
   "outputs": [],
   "source": [
    "reset_giskard()\n",
    "\n",
    "# variables\n",
    "single_joint_goal = {'torso_lift_joint': 0.3}\n",
    "tool_frame = 'l_gripper_tool_frame'\n",
    "cam_frame = 'wide_stereo_optical_frame'\n",
    "base_link = 'base_footprint'\n",
    "gripper_joint = 'l_gripper_l_finger_joint'\n",
    "gripper_joint_open = 0.55\n",
    "gripper_joint_close = 0.1\n",
    "gripper_link = tool_frame\n",
    "\n",
    "def giskard_sample(p1, p2, p3,):\n",
    "    reset_giskard()\n",
    "    # adding the object\n",
    "    cyl_pose = PoseStamped()\n",
    "    cyl_pose.header.frame_id = 'map'\n",
    "    cyl_pose.pose.orientation.w = 1\n",
    "    cyl_pose.pose.position = Point(2, -0.2, 1.2)\n",
    "    giskard.world.add_cylinder(name='mycyl', height=0.25, radius=0.02, pose=cyl_pose, parent_link='map')\n",
    "\n",
    "    obstacle_pose = PoseStamped()\n",
    "    obstacle_pose.header.frame_id = 'mycyl'\n",
    "    obstacle_pose.pose.orientation.w = 1\n",
    "    obstacle_pose.pose.position = Point(-0.1, 0.1, 0)\n",
    "    # giskard.world.add_box(name='obstacle', size=(0.02, 0.2, 0.1), pose=obstacle_pose, parent_link='mycyl')\n",
    "\n",
    "    # define the robot features\n",
    "    robot_pointing_feature = Vector3Stamped()\n",
    "    robot_pointing_feature.header.frame_id = gripper_link\n",
    "    robot_pointing_feature.vector = Vector3(1, 0, 0)\n",
    "\n",
    "    robot_point_feature = PointStamped()\n",
    "    robot_point_feature.header.frame_id = gripper_link\n",
    "    robot_point_feature.point = Point(0, 0, 0)\n",
    "\n",
    "    robot_gripper_z_axis_feature = Vector3Stamped()\n",
    "    robot_gripper_z_axis_feature.header.frame_id = gripper_link\n",
    "    robot_gripper_z_axis_feature.vector = Vector3(0, 0, 1)\n",
    "\n",
    "    # define the world features\n",
    "    world_cylinder_center_feature = PointStamped()\n",
    "    world_cylinder_center_feature.header.frame_id = 'mycyl'\n",
    "    world_cylinder_center_feature.point = Point(0, 0, 0)\n",
    "\n",
    "    world_cyl_z_axis_feature = Vector3Stamped()\n",
    "    world_cyl_z_axis_feature.header.frame_id = 'mycyl'\n",
    "    world_cyl_z_axis_feature.vector = Vector3(0, 0, 1)\n",
    "\n",
    "    # define the constraints\n",
    "    giskard.motion_goals.add_distance(root_link='map',\n",
    "                                      tip_link=gripper_link,\n",
    "                                      reference_point=world_cylinder_center_feature,\n",
    "                                      tip_point=robot_point_feature,\n",
    "                                      lower_limit=0.01,\n",
    "                                      upper_limit=0.01)\n",
    "    mon_dist = giskard.monitors.add_distance(root_link='map',\n",
    "                                             tip_link=gripper_link,\n",
    "                                             reference_point=world_cylinder_center_feature,\n",
    "                                             tip_point=robot_point_feature,\n",
    "                                             lower_limit=0.01 - 0.005,\n",
    "                                             upper_limit=0.01 + 0.005)\n",
    "\n",
    "    giskard.motion_goals.add_height(root_link='map',\n",
    "                                    tip_link=gripper_link,\n",
    "                                    reference_point=world_cylinder_center_feature,\n",
    "                                    tip_point=robot_point_feature,\n",
    "                                    lower_limit=p1,\n",
    "                                    upper_limit=p2)\n",
    "    mon_height = giskard.monitors.add_height(root_link='map',\n",
    "                                             tip_link=gripper_link,\n",
    "                                             reference_point=world_cylinder_center_feature,\n",
    "                                             tip_point=robot_point_feature,\n",
    "                                             lower_limit=-0.09,\n",
    "                                             upper_limit=0.09)\n",
    "    giskard.motion_goals.add_pointing(root_link='map',\n",
    "                                      tip_link=gripper_link,\n",
    "                                      goal_point=world_cylinder_center_feature,\n",
    "                                      pointing_axis=robot_pointing_feature)\n",
    "    mon_pointing = giskard.monitors.add_pointing_at(root_link='map',\n",
    "                                                    tip_link=gripper_link,\n",
    "                                                    goal_point=world_cylinder_center_feature,\n",
    "                                                    pointing_axis=robot_pointing_feature)\n",
    "\n",
    "    giskard.motion_goals.add_align_planes(root_link='map',\n",
    "                                          tip_link=gripper_link,\n",
    "                                          goal_normal=world_cyl_z_axis_feature,\n",
    "                                          tip_normal=robot_gripper_z_axis_feature)\n",
    "    mon_align = giskard.monitors.add_vectors_aligned(root_link='map',\n",
    "                                                     tip_link=gripper_link,\n",
    "                                                     goal_normal=world_cyl_z_axis_feature,\n",
    "                                                     tip_normal=robot_gripper_z_axis_feature)\n",
    "\n",
    "    # giskard.motion_goals.allow_all_collisions()\n",
    "    # giskard.motion_goals.avoid_collision(min_distance=p3, group1='obstacle')\n",
    "    giskard.monitors.add_end_motion(start_condition=f'{mon_dist} and {mon_height} and {mon_align} and {mon_pointing}')\n",
    "    giskard.monitors.add_cancel_motion(giskard.monitors.add_local_minimum_reached(),\n",
    "                                       error_message='local minimum reached while monitors are not satisfied')\n",
    "    result = giskard.execute()\n",
    "    if result.error.code != GiskardError.SUCCESS:\n",
    "        print(giskard.get_end_motion_reason(move_result=result, show_all=False))\n",
    "        # tf_buffer = tf2_ros.Buffer()\n",
    "        # tf_listener = tf2_ros.TransformListener(tf_buffer)\n",
    "        # transform = tf_buffer.lookup_transform('l_gripper_tool_frame', 'mycyl', rospy.Time(0), rospy.Duration(1.0))\n",
    "        # return -math.sqrt(transform.transform.translation.x**2 + transform.transform.translation.y**2)\n",
    "        return 0\n",
    "    else:\n",
    "        return 1\n",
    "\n"
   ],
   "metadata": {
    "collapsed": false,
    "pycharm": {
     "name": "#%%\n"
    }
   }
  },
  {
   "cell_type": "code",
   "execution_count": 93,
   "outputs": [],
   "source": [
    "# Bounded region of parameter space\n",
    "pbounds = {'p1': (-0.08, 0), 'p2': (0.01, 0.08), 'p3': (0.01, 0.1)}\n",
    "\n",
    "optimizer = BayesianOptimization(\n",
    "    f=giskard_sample,\n",
    "    pbounds=pbounds,\n",
    "    random_state=378,\n",
    ")"
   ],
   "metadata": {
    "collapsed": false,
    "pycharm": {
     "name": "#%%\n"
    }
   }
  },
  {
   "cell_type": "code",
   "execution_count": 94,
   "outputs": [
    {
     "name": "stdout",
     "output_type": "stream",
     "text": [
      "|   iter    |  target   |    p1     |    p2     |    p3     |\n",
      "-------------------------------------------------------------\n",
      "{'PointingAt': False}\n",
      "| \u001B[0m1        \u001B[0m | \u001B[0m0.0      \u001B[0m | \u001B[0m-0.03245 \u001B[0m | \u001B[0m0.01357  \u001B[0m | \u001B[0m0.01451  \u001B[0m |\n",
      "{'PointingAt': False}\n",
      "| \u001B[0m2        \u001B[0m | \u001B[0m0.0      \u001B[0m | \u001B[0m-0.01469 \u001B[0m | \u001B[0m0.03815  \u001B[0m | \u001B[0m0.01358  \u001B[0m |\n",
      "{'PointingAt': False}\n",
      "| \u001B[0m3        \u001B[0m | \u001B[0m0.0      \u001B[0m | \u001B[0m-0.07842 \u001B[0m | \u001B[0m0.01674  \u001B[0m | \u001B[0m0.07861  \u001B[0m |\n",
      "| \u001B[95m4        \u001B[0m | \u001B[95m1.0      \u001B[0m | \u001B[95m-0.000687\u001B[0m | \u001B[95m0.07616  \u001B[0m | \u001B[95m0.09925  \u001B[0m |\n",
      "{'PointingAt': False}\n",
      "| \u001B[0m5        \u001B[0m | \u001B[0m0.0      \u001B[0m | \u001B[0m-0.06557 \u001B[0m | \u001B[0m0.05318  \u001B[0m | \u001B[0m0.08829  \u001B[0m |\n",
      "{'PointingAt': False}\n",
      "| \u001B[0m6        \u001B[0m | \u001B[0m0.0      \u001B[0m | \u001B[0m-0.05707 \u001B[0m | \u001B[0m0.07648  \u001B[0m | \u001B[0m0.01368  \u001B[0m |\n",
      "=============================================================\n"
     ]
    }
   ],
   "source": [
    "optimizer.maximize(\n",
    "    init_points=3,\n",
    "    n_iter=3,\n",
    ")"
   ],
   "metadata": {
    "collapsed": false,
    "pycharm": {
     "name": "#%%\n"
    }
   }
  },
  {
   "cell_type": "code",
   "execution_count": 62,
   "outputs": [
    {
     "name": "stdout",
     "output_type": "stream",
     "text": [
      "{'target': -0.0007272502698663801, 'params': {'p1': -0.09998856251826552, 'p2': 0.030233257263183978}}\n"
     ]
    }
   ],
   "source": [
    "print(optimizer.max)"
   ],
   "metadata": {
    "collapsed": false,
    "pycharm": {
     "name": "#%%\n"
    }
   }
  },
  {
   "cell_type": "code",
   "execution_count": 51,
   "outputs": [],
   "source": [],
   "metadata": {
    "collapsed": false,
    "pycharm": {
     "name": "#%%\n"
    }
   }
  },
  {
   "cell_type": "code",
   "execution_count": 56,
   "outputs": [
    {
     "name": "stdout",
     "output_type": "stream",
     "text": [
      "{'DistanceMonitor': False, 'PointingAt': False}\n"
     ]
    },
    {
     "data": {
      "text/plain": "0.1885551856693502"
     },
     "execution_count": 56,
     "metadata": {},
     "output_type": "execute_result"
    }
   ],
   "source": [
    "giskard_sample(-0.05, 0.05)"
   ],
   "metadata": {
    "collapsed": false,
    "pycharm": {
     "name": "#%%\n"
    }
   }
  },
  {
   "cell_type": "code",
   "execution_count": null,
   "outputs": [],
   "source": [
    "%%bash\n",
    "pip3 install bayesian_optimization==1.4.0\n",
    "pip3 install colorama==0.4.4"
   ],
   "metadata": {
    "collapsed": false,
    "pycharm": {
     "name": "#%%\n"
    }
   }
  }
 ],
 "metadata": {
  "kernelspec": {
   "display_name": "Python 3",
   "language": "python",
   "name": "python3"
  },
  "language_info": {
   "codemirror_mode": {
    "name": "ipython",
    "version": 2
   },
   "file_extension": ".py",
   "mimetype": "text/x-python",
   "name": "python",
   "nbconvert_exporter": "python",
   "pygments_lexer": "ipython2",
   "version": "2.7.6"
  }
 },
 "nbformat": 4,
 "nbformat_minor": 0
}