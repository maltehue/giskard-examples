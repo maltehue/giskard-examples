{
 "cells": [
  {
   "cell_type": "markdown",
   "id": "795e31c3-ede8-476f-a7bd-cd4b8911d3ea",
   "metadata": {
    "execution": {
     "iopub.execute_input": "2024-01-22T16:09:32.961531Z",
     "iopub.status.busy": "2024-01-22T16:09:32.961000Z",
     "iopub.status.idle": "2024-01-22T16:09:32.963371Z",
     "shell.execute_reply": "2024-01-22T16:09:32.962935Z",
     "shell.execute_reply.started": "2024-01-22T16:09:32.961514Z"
    }
   },
   "source": [
    "# HSR Mujoco Example\n",
    "\n",
    "HSR in Mujoco simulator.\n",
    "\n",
    "### Dependencies:\n",
    "\n",
    "1. [Giskard branch: mujoco_actions_devel](https://github.com/SemRoCo/giskardpy/tree/37b4048c3787c1f5f0370ca4e8ee10754eaa12c9)\n",
    "\n",
    "1. [mujoco_sim](https://github.com/HoangGiang93/mujoco_sim)\n",
    "\n",
    "1. [HSR description files](https://github.com/maltehue/mujoco_robots)"
   ]
  },
  {
   "cell_type": "markdown",
   "id": "8e5cc757-63f6-4314-bac6-93021e6b24d5",
   "metadata": {
    "execution": {
     "iopub.execute_input": "2024-01-22T16:09:32.961531Z",
     "iopub.status.busy": "2024-01-22T16:09:32.961000Z",
     "iopub.status.idle": "2024-01-22T16:09:32.963371Z",
     "shell.execute_reply": "2024-01-22T16:09:32.962935Z",
     "shell.execute_reply.started": "2024-01-22T16:09:32.961514Z"
    }
   },
   "source": [
    "## 1. Launch Robot and envrionment"
   ]
  },
  {
   "cell_type": "code",
   "execution_count": 1,
   "id": "4c8a831f-a907-4497-8452-9a80fab96a1b",
   "metadata": {
    "execution": {
     "iopub.execute_input": "2024-02-06T15:46:23.404865Z",
     "iopub.status.busy": "2024-02-06T15:46:23.404541Z",
     "iopub.status.idle": "2024-02-06T15:46:23.632580Z",
     "shell.execute_reply": "2024-02-06T15:46:23.632222Z",
     "shell.execute_reply.started": "2024-02-06T15:46:23.404850Z"
    },
    "jupyter": {
     "source_hidden": true
    }
   },
   "outputs": [
    {
     "data": {
      "application/vnd.jupyter.widget-view+json": {
       "model_id": "4213cbe4e324425da76928256ef11d8b",
       "version_major": 2,
       "version_minor": 0
      },
      "text/plain": [
       "VBox(children=(ToggleButtons(description='robots', options=('HSR', 'HSR with a cup', 'HSR with a tray'), toolt…"
      ]
     },
     "metadata": {},
     "output_type": "display_data"
    }
   ],
   "source": [
    "import os\n",
    "import psutil\n",
    "import subprocess\n",
    "import rospy\n",
    "from ipywidgets import Button, Layout, GridBox, VBox, FloatSlider, ToggleButtons, Box\n",
    "from IPython.display import display, Markdown, IFrame\n",
    "from sidecar import Sidecar\n",
    "\n",
    "# Directory of the ROS launch files\n",
    "LAUNCH_FILE_DIR = os.path.abspath(os.path.join(os.getcwd(), \"../launch\"))\n",
    "# To display web UI on the left\n",
    "SIDECAR = None\n",
    "# To manage the roslaunch process in the background\n",
    "LAUNCH_PROCESS = None\n",
    "\n",
    "# UI widgets variables\n",
    "UI_CONFIG = {\n",
    "    'robots': [\n",
    "        {\n",
    "            'name': 'HSR',\n",
    "            'value': '$(find hsr_mujoco)/model/hsrb4s.xml',\n",
    "        },\n",
    "        {\n",
    "            'name': 'HSR with a cup',\n",
    "            'value': '$(find hsr_mujoco)/model/hsrb4s_cup.xml',\n",
    "        },\n",
    "        {\n",
    "            'name': 'HSR with a tray',\n",
    "            'value': '$(find hsr_mujoco)/model/hsrb4s_tray.xml',\n",
    "        }\n",
    "    ],\n",
    "    'worlds': [\n",
    "        {\n",
    "            'name': 'world_containers',\n",
    "            'value': '$(find hsr_mujoco)/model/world_containers.xml',\n",
    "        },\n",
    "        {\n",
    "            'name': 'world_only_containers',\n",
    "            'value': '$(find hsr_mujoco)/model/world_only_containers.xml',\n",
    "        },\n",
    "        {\n",
    "            'name': 'world_particle_container',\n",
    "            'value': '$(find hsr_mujoco)/model/world_particle_container.xml',\n",
    "        },\n",
    "        {\n",
    "            'name': 'iai_apartment',\n",
    "            'value': '$(find mujoco_world)/model/iai_apartment/iai_apartment_with_window4.xml',\n",
    "        },\n",
    "        {\n",
    "            'name': 'waterfront',\n",
    "            'value': '$(find mujoco_world)/model/waterfront/world.xml',\n",
    "        },\n",
    "        {\n",
    "            'name': 'iai_kitchen',\n",
    "            'value': '$(find mujoco_world)/model/iai_kitchen/iai_kitchen_python.xml',\n",
    "        },\n",
    "    ]\n",
    "}\n",
    "SELECTED_ROBOT = UI_CONFIG['robots'][0]['value']\n",
    "SELECTED_WORLD = UI_CONFIG['worlds'][0]['value']\n",
    "\n",
    "try:\n",
    "    DISPLAY_NUM = os.environ['DISPLAY']\n",
    "except KeyError:\n",
    "    DISPLAY_NUM = None\n",
    "\n",
    "# Popup the xpra desktop on the left panel\n",
    "def open_xpra():\n",
    "    global SIDECAR\n",
    "    if SIDECAR is not None:\n",
    "        SIDECAR.close()\n",
    "    SIDECAR = Sidecar(title='XRPA', anchor='right')\n",
    "    try:\n",
    "        JUPYTERHUB_USER = '/user/' + os.environ['JUPYTERHUB_USER']\n",
    "    except KeyError:\n",
    "        JUPYTERHUB_USER = ''\n",
    "    xpra_url = f\"{JUPYTERHUB_USER}/desktop\"\n",
    "    print(xpra_url)\n",
    "    with SIDECAR:\n",
    "        display(IFrame(src=xpra_url, width='100%', height='100%'))\n",
    "\n",
    "# Execute the roslaunch command\n",
    "def launch_simulation():\n",
    "    global LAUNCH_PROCESS\n",
    "    if LAUNCH_PROCESS is not None:\n",
    "        LAUNCH_PROCESS.terminate()\n",
    "        LAUNCH_PROCESS.wait()\n",
    "    if DISPLAY_NUM == ':100' or True:\n",
    "        open_xpra()\n",
    "    launchfile = os.path.join(LAUNCH_FILE_DIR, \"hsr_mujoco.launch\")\n",
    "    command = [\n",
    "        'roslaunch', \n",
    "        launchfile,\n",
    "        'gui:=false',\n",
    "        'web:=false',\n",
    "        f\"mujoco_robot:={SELECTED_ROBOT}\",\n",
    "        f\"mujoco_world:={SELECTED_WORLD}\"\n",
    "    ]\n",
    "    LAUNCH_PROCESS = psutil.Popen(command,\n",
    "        stdout=subprocess.DEVNULL,\n",
    "        stderr=subprocess.DEVNULL)\n",
    "    print(f\"\"\"\n",
    "        Executing command: \n",
    "        {' '.join(command)}\n",
    "        in the background, the output will be hidden. \n",
    "        To check the output please execute it in a Terminial!\n",
    "    \"\"\")\n",
    "\n",
    "# Create UI widgets\n",
    "def select_robot(index):\n",
    "    global SELECTED_ROBOT\n",
    "    SELECTED_ROBOT = UI_CONFIG['robots'][index]['value']\n",
    "\n",
    "def select_world(index):\n",
    "    global SELECTED_WORLD\n",
    "    SELECTED_WORLD = UI_CONFIG['worlds'][index]['value']\n",
    "\n",
    "def create_widgets(config):\n",
    "    widgets = []\n",
    "    robot_select = ToggleButtons(\n",
    "        options=[i['name'] for i in config['robots']],\n",
    "        description='robots',\n",
    "        tooltips=[i['value'] for i in config['robots']],\n",
    "    )\n",
    "    robot_select.observe(lambda v: select_robot(v['new']), names=\"index\")\n",
    "\n",
    "    world_select = ToggleButtons(\n",
    "        options=[i['name'] for i in config['worlds']],\n",
    "        description='worlds',\n",
    "        tooltips=[i['value'] for i in config['worlds']],\n",
    "    )\n",
    "    world_select.observe(lambda v: select_world(v['new']), names=\"index\")\n",
    "\n",
    "    Launch_btn = Button(\n",
    "        description='Launch Simulation',\n",
    "        layout=Layout(width='auto'),\n",
    "        button_style='success'\n",
    "    )\n",
    "    Launch_btn.on_click(lambda b: launch_simulation())\n",
    "    widgets.append(robot_select)\n",
    "    widgets.append(world_select)\n",
    "    widgets.append(Launch_btn)\n",
    "    return VBox(widgets)\n",
    "\n",
    "# Display widgets\n",
    "display(create_widgets(UI_CONFIG))"
   ]
  },
  {
   "cell_type": "markdown",
   "id": "c62dcdbd-f356-4ae0-b91c-fb70322e21b7",
   "metadata": {},
   "source": [
    "## 2. Control the robot with the Giskard Python Interface"
   ]
  },
  {
   "cell_type": "code",
   "execution_count": 2,
   "id": "010a0a96-7567-4b04-85b4-827b625e8bb5",
   "metadata": {
    "execution": {
     "iopub.execute_input": "2024-02-06T15:46:23.633678Z",
     "iopub.status.busy": "2024-02-06T15:46:23.633319Z",
     "iopub.status.idle": "2024-02-06T15:46:24.102913Z",
     "shell.execute_reply": "2024-02-06T15:46:24.102443Z",
     "shell.execute_reply.started": "2024-02-06T15:46:23.633664Z"
    },
    "jupyter": {
     "source_hidden": true
    }
   },
   "outputs": [],
   "source": [
    "import rospy\n",
    "import random\n",
    "from giskardpy.python_interface.python_interface import GiskardWrapper\n",
    "from giskardpy.goals.joint_goals import JointPositionList\n",
    "from giskardpy.monitors.joint_monitors import JointGoalReached\n",
    "from geometry_msgs.msg import PoseStamped, Point, Quaternion, Vector3Stamped, PointStamped, QuaternionStamped\n",
    "\n",
    "rospy.init_node('notebook_playground')\n",
    "\n",
    "def move_robot(gk_wrapper, pos, root_link='map', tip_link='base_link'):\n",
    "    pos_stamp = PointStamped()\n",
    "    pos_stamp.header.frame_id = root_link\n",
    "    pos_stamp.point = pos\n",
    "    gk_wrapper.add_default_end_motion_conditions()\n",
    "    gk_wrapper.motion_goals.add_cartesian_position(\n",
    "        root_link=root_link,\n",
    "        tip_link=tip_link,\n",
    "        goal_point=pos_stamp,\n",
    "    )\n",
    "    gk_wrapper.execute()\n",
    "\n",
    "def rotate_robot(gk_wrapper, ori, root_link='map', tip_link='base_link'):\n",
    "    ori_stamp = QuaternionStamped()\n",
    "    ori_stamp.header.frame_id = root_link\n",
    "    ori_stamp.quaternion = ori\n",
    "    gk_wrapper.add_default_end_motion_conditions()\n",
    "    gk_wrapper.motion_goals.add_cartesian_orientation(\n",
    "        root_link=root_link,\n",
    "        tip_link=tip_link,\n",
    "        goal_orientation=ori_stamp,\n",
    "    )\n",
    "    gk_wrapper.execute()\n",
    "\n",
    "def control_joint(gk_wrapper, joint_goal):\n",
    "    gk_wrapper.motion_goals.add_joint_position(goal_state=joint_goal)\n",
    "    gk_wrapper.add_default_end_motion_conditions()\n",
    "    gk_wrapper.execute()\n",
    "\n",
    "def list_links(gk_wrapper):\n",
    "    return gk_wrapper.world.get_group_info(gk_wrapper.world.get_group_names()[0]).links\n",
    "\n",
    "def list_joints(gk_wrapper):\n",
    "    return gk_wrapper.world.get_controlled_joints(gk_wrapper.world.get_group_names()[0])\n"
   ]
  },
  {
   "cell_type": "markdown",
   "id": "e056e1ec-f26f-4a5c-928b-aa63e0b972b6",
   "metadata": {},
   "source": [
    "#### Init Giskard python API wrapper"
   ]
  },
  {
   "cell_type": "code",
   "execution_count": null,
   "id": "1001fb57-52a8-4181-9b98-83867232c480",
   "metadata": {},
   "outputs": [],
   "source": [
    "giskard_wrapper = GiskardWrapper()"
   ]
  },
  {
   "cell_type": "markdown",
   "id": "39d05ea4-7c1f-4022-9e5a-dad42ac3d1d2",
   "metadata": {},
   "source": [
    "#### Move robot around"
   ]
  },
  {
   "cell_type": "code",
   "execution_count": null,
   "id": "7390ad9d-390f-458d-a842-c0f9650100cf",
   "metadata": {
    "scrolled": true
   },
   "outputs": [],
   "source": [
    "# List all the links\n",
    "print(list_links(giskard_wrapper))\n",
    "\n",
    "# Move the robot to a absolute position\n",
    "move_robot(giskard_wrapper, Point(1.2, 0, 0))\n",
    "\n",
    "# Rotate robot body (absolute Coordinate)\n",
    "rotate_robot(giskard_wrapper, Quaternion(0, 0, -0.1, 1))"
   ]
  },
  {
   "cell_type": "markdown",
   "id": "b3effd91-55d7-4c7d-93f8-2a81ac44cdad",
   "metadata": {},
   "source": [
    "#### Control joints"
   ]
  },
  {
   "cell_type": "code",
   "execution_count": null,
   "id": "82582919-ce7e-4faa-93a5-765ea484f175",
   "metadata": {},
   "outputs": [],
   "source": [
    "# Control joints\n",
    "print(list_joints(giskard_wrapper))\n",
    "control_joint(giskard_wrapper, {\n",
    "    'wrist_roll_joint': -2,\n",
    "    'torso_lift_joint': 0.2\n",
    "})"
   ]
  },
  {
   "cell_type": "code",
   "execution_count": 3,
   "id": "7a1b27d6-dab1-4300-8c19-c9e0f3534c95",
   "metadata": {
    "execution": {
     "iopub.execute_input": "2024-02-06T15:46:45.552446Z",
     "iopub.status.busy": "2024-02-06T15:46:45.552198Z",
     "iopub.status.idle": "2024-02-06T15:46:45.567122Z",
     "shell.execute_reply": "2024-02-06T15:46:45.566584Z",
     "shell.execute_reply.started": "2024-02-06T15:46:45.552429Z"
    },
    "jupyter": {
     "source_hidden": true
    }
   },
   "outputs": [
    {
     "data": {
      "text/markdown": [
       "#### Robot Base Velocity Controller:"
      ],
      "text/plain": [
       "<IPython.core.display.Markdown object>"
      ]
     },
     "metadata": {},
     "output_type": "display_data"
    },
    {
     "data": {
      "application/vnd.jupyter.widget-view+json": {
       "model_id": "5ec508ca0e4f41cf8213c9e068164eb3",
       "version_major": 2,
       "version_minor": 0
      },
      "text/plain": [
       "Box(children=(FloatSlider(value=0.0, description='Moving', max=1.0, min=-1.0, orientation='vertical', readout_…"
      ]
     },
     "metadata": {},
     "output_type": "display_data"
    }
   ],
   "source": [
    "from geometry_msgs.msg import Twist, Vector3\n",
    "import rospy\n",
    "\n",
    "rospy.init_node('notebook_playground')\n",
    "cmd_vel_pub = rospy.Publisher('/hsrb4s/cmd_vel', Twist, queue_size=5)\n",
    "cmd_vel_msg = Twist()\n",
    "\n",
    "# slider for moving velocity\n",
    "linear_x = FloatSlider(\n",
    "    value=0,\n",
    "    min=-1,\n",
    "    max=1,\n",
    "    step=0.1,\n",
    "    description='Moving',\n",
    "    orientation='vertical',\n",
    "    readout=True,\n",
    "    readout_format='.1f',\n",
    ")\n",
    "\n",
    "def on_linear_x_change(v):\n",
    "    cmd_vel_msg.linear.x = v\n",
    "    cmd_vel_pub.publish(cmd_vel_msg)\n",
    "\n",
    "linear_x.observe(lambda v: on_linear_x_change(v['new']), names='value')\n",
    "\n",
    "# slider for rotation velocity\n",
    "angular_z = FloatSlider(\n",
    "    value=0,\n",
    "    min=-1,\n",
    "    max=1,\n",
    "    step=0.1,\n",
    "    description='Rotation',\n",
    "    readout=True,\n",
    "    readout_format='.1f',\n",
    ")\n",
    "\n",
    "def on_angular_z_change(v):\n",
    "    cmd_vel_msg.angular.z = -v\n",
    "    cmd_vel_pub.publish(cmd_vel_msg)\n",
    "\n",
    "angular_z.observe(lambda v: on_angular_z_change(v['new']), names='value')\n",
    "\n",
    "display(Markdown('#### Robot Base Velocity Controller:'))\n",
    "display(Box([linear_x, angular_z]))"
   ]
  }
 ],
 "metadata": {
  "kernelspec": {
   "display_name": "Python 3 (ipykernel)",
   "language": "python",
   "name": "python3"
  },
  "language_info": {
   "codemirror_mode": {
    "name": "ipython",
    "version": 3
   },
   "file_extension": ".py",
   "mimetype": "text/x-python",
   "name": "python",
   "nbconvert_exporter": "python",
   "pygments_lexer": "ipython3",
   "version": "3.10.6"
  }
 },
 "nbformat": 4,
 "nbformat_minor": 5
}
