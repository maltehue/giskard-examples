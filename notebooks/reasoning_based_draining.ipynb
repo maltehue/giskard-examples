{
 "cells": [
  {
   "cell_type": "code",
   "execution_count": null,
   "metadata": {
    "collapsed": true,
    "pycharm": {
     "name": "#%%\n"
    }
   },
   "outputs": [],
   "source": [
    "import rospy\n",
    "from giskardpy.python_interface.python_interface import GiskardWrapper\n",
    "import numpy as np\n",
    "from geometry_msgs.msg import PoseStamped, Point, Quaternion, Vector3Stamped\n",
    "from tf.transformations import quaternion_from_matrix, quaternion_about_axis, quaternion_multiply\n",
    "from giskardpy.goals.adaptive_goals import CloseGripper, PouringAdaptiveTilt\n",
    "import math\n",
    "from giskardpy.goals.manipulability_goals import MaxManipulability"
   ]
  },
  {
   "cell_type": "code",
   "execution_count": null,
   "outputs": [],
   "source": [],
   "metadata": {
    "collapsed": false,
    "pycharm": {
     "name": "#%%\n"
    }
   }
  },
  {
   "cell_type": "code",
   "execution_count": null,
   "outputs": [],
   "source": [
    "rospy.init_node('giskard_notebook')"
   ],
   "metadata": {
    "collapsed": false,
    "pycharm": {
     "name": "#%%\n"
    }
   }
  },
  {
   "cell_type": "code",
   "execution_count": null,
   "outputs": [],
   "source": [
    "giskard = GiskardWrapper()"
   ],
   "metadata": {
    "collapsed": false,
    "pycharm": {
     "name": "#%%\n"
    }
   }
  },
  {
   "cell_type": "code",
   "execution_count": null,
   "outputs": [],
   "source": [
    "p = PoseStamped()\n",
    "p.header.stamp = rospy.get_rostime()\n",
    "p.header.frame_id = 'map'\n",
    "\n",
    "rotation = 0  # .9\n",
    "rot1 = quaternion_about_axis(rotation, (0, 1, 0))\n",
    "rot2 = quaternion_about_axis(rotation, (0, 1, 0))\n",
    "\n",
    "h = 0.9\n",
    "p.pose.position = Point(2, -0.39, h)\n",
    "p.pose.orientation = Quaternion(*quaternion_multiply(rot1, quaternion_from_matrix([[0, 0, 1, 0],\n",
    "                                                                                   [1, 0, 0, 0],\n",
    "                                                                                   [0, 1, 0, 0],\n",
    "                                                                                   [0, 0, 0, 1]])))\n",
    "\n",
    "p2 = PoseStamped()\n",
    "p2.header.stamp = rospy.get_rostime()\n",
    "p2.header.frame_id = 'map'\n",
    "p2.pose.position = Point(2, -0.0, h)\n",
    "p2.pose.orientation = Quaternion(*quaternion_multiply(rot2, quaternion_from_matrix([[0, 0, -1, 0],\n",
    "                                                                                    [-1, 0, 0, 0],\n",
    "                                                                                    [0, 1, 0, 0],\n",
    "                                                                                    [0, 0, 0, 1]])))\n",
    "\n",
    "####################################################\n",
    "h = 0.01\n",
    "p.header.frame_id = 'pot'\n",
    "p2.header.frame_id = 'pot'\n",
    "p.pose.position = Point(0, -0.20, h)\n",
    "p2.pose.position = Point(0, 0.20, h)\n",
    "giskard.motion_goals.allow_all_collisions()\n",
    "giskard.motion_goals.add_cartesian_pose(p, 'r_gripper_tool_frame', 'map')\n",
    "giskard.motion_goals.add_cartesian_pose(p2, 'l_gripper_tool_frame', 'map')\n",
    "giskard.add_default_end_motion_conditions()\n",
    "giskard.execute()\n",
    "\n",
    "###################################################\n",
    "\n",
    "p.pose.position = Point(0, -0.15, h)\n",
    "p2.pose.position = Point(0, 0.15, h)\n",
    "giskard.motion_goals.allow_all_collisions()\n",
    "giskard.motion_goals.add_cartesian_pose(p, 'r_gripper_tool_frame', 'map')\n",
    "giskard.motion_goals.add_cartesian_pose(p2, 'l_gripper_tool_frame', 'map')\n",
    "giskard.add_default_end_motion_conditions()\n",
    "giskard.execute()\n",
    "\n",
    "###################################################\n",
    "\n",
    "giskard.motion_goals.add_motion_goal(motion_goal_class=CloseGripper.__name__,\n",
    "                                       name='closeGripperRight',\n",
    "                                       pub_topic='/pr2/r_gripper_controller/command',\n",
    "                                       joint_state_topic='pr2/joint_states',\n",
    "                                       alibi_joint_name='r_gripper_l_finger_joint',\n",
    "                                       effort_threshold=-0.14,\n",
    "                                       effort=-180)\n",
    "giskard.motion_goals.add_motion_goal(motion_goal_class=CloseGripper.__name__,\n",
    "                                       name='closeGripperLeft',\n",
    "                                       pub_topic='/pr2/l_gripper_controller/command',\n",
    "                                       joint_state_topic='pr2/joint_states',\n",
    "                                       alibi_joint_name='l_gripper_l_finger_joint',\n",
    "                                       effort_threshold=-0.14,\n",
    "                                       effort=-180)\n",
    "giskard.motion_goals.add_cartesian_pose(p, 'r_gripper_tool_frame', 'map')\n",
    "giskard.motion_goals.add_cartesian_pose(p2, 'l_gripper_tool_frame', 'map')\n",
    "giskard.add_default_end_motion_conditions()\n",
    "giskard.motion_goals.allow_all_collisions()\n",
    "giskard.execute()\n",
    "\n",
    "####################################################\n",
    "\n",
    "# current pose of the pot in simulation\n",
    "pot_pose = PoseStamped()\n",
    "pot_pose.header.frame_id = 'pot'\n",
    "pot_pose.pose.position = Point(0, 0, 0)\n",
    "pot_pose.pose.orientation.w = 1\n",
    "\n",
    "# add a new object at the pose of the pot and attach it to the right tip\n",
    "giskard.world.add_box('dummy', (0.1, 0.1, 0.1), pose=pot_pose, parent_link='r_gripper_tool_frame')\n",
    "\n",
    "# pose of the left gripper relative to the attached object\n",
    "l_pose = PoseStamped()\n",
    "l_pose.header.frame_id = 'dummy'\n",
    "l_pose.pose.position = Point(0, 0.15, 0)\n",
    "l_pose.pose.orientation = Quaternion(*quaternion_from_matrix([[0, 0, -1, 0],\n",
    "                                                              [-1, 0, 0, 0],\n",
    "                                                              [0, 1, 0, 0],\n",
    "                                                              [0, 0, 0, 1]]))\n",
    "\n",
    "# update pot pose to the desired pose of the pot\n",
    "# pot_pose.pose.position.z = 0.2\n",
    "#\n",
    "# move the dummy pot and the left gripper relative to it\n",
    "pot_pose.pose.position = Point(0, 0, 0.2)\n",
    "giskard.motion_goals.add_cartesian_pose(pot_pose, 'dummy', 'map')\n",
    "giskard.motion_goals.add_cartesian_pose(l_pose, 'l_gripper_tool_frame', 'r_gripper_tool_frame', add_monitor=False)\n",
    "giskard.add_default_end_motion_conditions()\n",
    "giskard.execute()\n",
    "\n",
    "###############################################################\n",
    "\n",
    "pot_pose = PoseStamped()\n",
    "pot_pose.header.frame_id = 'map'\n",
    "pot_pose.pose.position = Point(1.9, 0.3, 1.1)\n",
    "pot_pose.pose.orientation.w = 1  # Quaternion(*quaternion_about_axis(-0.5, (1, 0, 0)))\n",
    "# Todo: rotate pot pose around x axis\n",
    "tilt_axis = Vector3Stamped()\n",
    "tilt_axis.header.frame_id = 'dummy'\n",
    "tilt_axis.vector.y = 2 / math.sqrt(5)\n",
    "tilt_axis.vector.x = -1 / math.sqrt(5)\n",
    "# tilt_axis.vector.y = 1\n",
    "giskard.motion_goals.add_motion_goal(motion_goal_class=PouringAdaptiveTilt.__name__,\n",
    "                                       name='pouring',\n",
    "                                       tip='dummy',\n",
    "                                       root='map',\n",
    "                                       tilt_angle=0.7,\n",
    "                                       pouring_pose=pot_pose,\n",
    "                                       tilt_axis=tilt_axis,\n",
    "                                       pre_tilt=False)\n",
    "giskard.motion_goals.add_cartesian_pose(l_pose, 'l_gripper_tool_frame', 'r_gripper_tool_frame', add_monitor=False)\n",
    "giskard.motion_goals.allow_all_collisions()\n",
    "# giskard.set_avoid_joint_limits_goal()\n",
    "giskard.motion_goals.add_motion_goal(motion_goal_class=MaxManipulability.__name__,\n",
    "                                       root_link='torso_lift_link',\n",
    "                                       tip_link='r_gripper_tool_frame',\n",
    "                                       gain=3)\n",
    "giskard.motion_goals.add_motion_goal(motion_goal_class=MaxManipulability.__name__,\n",
    "                                       root_link='torso_lift_link',\n",
    "                                       tip_link='l_gripper_tool_frame',\n",
    "                                       gain=3)\n",
    "giskard.execute(add_local_minimum_reached=False)"
   ],
   "metadata": {
    "collapsed": false,
    "pycharm": {
     "name": "#%%\n"
    }
   }
  }
 ],
 "metadata": {
  "kernelspec": {
   "display_name": "Python 3",
   "language": "python",
   "name": "python3"
  },
  "language_info": {
   "codemirror_mode": {
    "name": "ipython",
    "version": 2
   },
   "file_extension": ".py",
   "mimetype": "text/x-python",
   "name": "python",
   "nbconvert_exporter": "python",
   "pygments_lexer": "ipython2",
   "version": "2.7.6"
  }
 },
 "nbformat": 4,
 "nbformat_minor": 0
}