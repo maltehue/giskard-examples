{
 "cells": [
  {
   "cell_type": "code",
   "execution_count": 15,
   "outputs": [],
   "source": [
    "import rospy\n",
    "from giskardpy.python_interface.python_interface import GiskardWrapper\n",
    "import numpy as np\n",
    "from geometry_msgs.msg import PoseStamped, Point, Quaternion, Vector3Stamped, PointStamped\n",
    "from tf.transformations import quaternion_from_matrix, quaternion_about_axis\n",
    "from giskardpy.goals.adaptive_goals import CloseGripper, PouringAdaptiveTilt\n",
    "from giskard_msgs.msg import GiskardError"
   ],
   "metadata": {
    "collapsed": false,
    "pycharm": {
     "name": "#%%\n"
    }
   }
  },
  {
   "cell_type": "code",
   "execution_count": 2,
   "metadata": {
    "collapsed": false,
    "pycharm": {
     "name": "#%%\n"
    }
   },
   "outputs": [],
   "source": [
    "rospy.init_node('giskard_notebook')"
   ]
  },
  {
   "cell_type": "markdown",
   "source": [
    "The following 4 cells do\n",
    "1. Restart the simulation. Success is indicated by the reset of the visualization.\n",
    "2. Start or restart the Giskard node that controls the simulated robot.\n",
    "3. Starts a script that analyzes the simulation data and publishes bounding boxes for all objects (not for the particles).\n",
    "4. Starts a script that contains the reasoner that based on the rules and the current context decides the next best motion primitive to influence Giskard. Output can be seen in the topic /reasoner/concluded_behaviour.\n",
    "\n",
    "Everytime one wants to repeat this experiment, the 4 commands should be executed again. Note that the goal parameter should be set before the reasoner is started."
   ],
   "metadata": {
    "collapsed": false,
    "pycharm": {
     "name": "#%% md\n"
    }
   }
  },
  {
   "cell_type": "code",
   "execution_count": null,
   "metadata": {
    "collapsed": false,
    "pycharm": {
     "name": "#%%\n"
    }
   },
   "outputs": [],
   "source": [
    "%%bash --bg\n",
    "roslaunch hsr_mujoco hsrb4s_velocity_mixing.launch > / dev / null"
   ]
  },
  {
   "cell_type": "code",
   "execution_count": 3,
   "metadata": {
    "pycharm": {
     "name": "#%%\n"
    }
   },
   "outputs": [],
   "source": [
    "%%bash --bg\n",
    "roslaunch giskardpy giskardpy_hsr_mujoco.launch > / dev / null"
   ]
  },
  {
   "cell_type": "code",
   "execution_count": 5,
   "metadata": {
    "collapsed": false,
    "pycharm": {
     "name": "#%%\n"
    }
   },
   "outputs": [],
   "source": [
    "giskard = GiskardWrapper()"
   ]
  },
  {
   "cell_type": "markdown",
   "metadata": {
    "pycharm": {
     "name": "#%% md\n"
    }
   },
   "source": [
    "#### If the robot is not shown but the environment is, then click the reload button in rviz\n",
    "The robot normally stands to the right of the table."
   ]
  },
  {
   "cell_type": "code",
   "execution_count": 18,
   "metadata": {
    "collapsed": false,
    "pycharm": {
     "name": "#%%\n"
    }
   },
   "outputs": [
    {
     "ename": "KeyboardInterrupt",
     "evalue": "",
     "output_type": "error",
     "traceback": [
      "\u001B[0;31m---------------------------------------------------------------------------\u001B[0m",
      "\u001B[0;31mKeyboardInterrupt\u001B[0m                         Traceback (most recent call last)",
      "Cell \u001B[0;32mIn[18], line 66\u001B[0m\n\u001B[1;32m     62\u001B[0m giskard\u001B[38;5;241m.\u001B[39mcreate_tcmp_controller(tip_link\u001B[38;5;241m=\u001B[39m\u001B[38;5;124m'\u001B[39m\u001B[38;5;124mhand_palm_link\u001B[39m\u001B[38;5;124m'\u001B[39m, root_link\u001B[38;5;241m=\u001B[39m\u001B[38;5;124m'\u001B[39m\u001B[38;5;124mmap\u001B[39m\u001B[38;5;124m'\u001B[39m,\n\u001B[1;32m     63\u001B[0m                                  sequence\u001B[38;5;241m=\u001B[39mseq, max_vel\u001B[38;5;241m=\u001B[39m\u001B[38;5;241m0.2\u001B[39m)\n\u001B[1;32m     65\u001B[0m giskard\u001B[38;5;241m.\u001B[39mmonitors\u001B[38;5;241m.\u001B[39madd_max_trajectory_length(\u001B[38;5;241m60\u001B[39m)\n\u001B[0;32m---> 66\u001B[0m result \u001B[38;5;241m=\u001B[39m \u001B[43mgiskard\u001B[49m\u001B[38;5;241;43m.\u001B[39;49m\u001B[43mexecute\u001B[49m\u001B[43m(\u001B[49m\u001B[43m)\u001B[49m\n\u001B[1;32m     67\u001B[0m \u001B[38;5;28;01mif\u001B[39;00m result\u001B[38;5;241m.\u001B[39merror\u001B[38;5;241m.\u001B[39mcode \u001B[38;5;241m!=\u001B[39m GiskardError\u001B[38;5;241m.\u001B[39mSUCCESS:\n\u001B[1;32m     68\u001B[0m     \u001B[38;5;28mprint\u001B[39m(giskard\u001B[38;5;241m.\u001B[39mget_end_motion_reason(move_result\u001B[38;5;241m=\u001B[39mresult, show_all\u001B[38;5;241m=\u001B[39m\u001B[38;5;28;01mFalse\u001B[39;00m))\n",
      "File \u001B[0;32m~/workspace/new_giskard_ws/src/giskardpy/src/giskardpy/python_interface/python_interface.py:2129\u001B[0m, in \u001B[0;36mGiskardWrapper.execute\u001B[0;34m(self, wait)\u001B[0m\n\u001B[1;32m   2124\u001B[0m \u001B[38;5;28;01mdef\u001B[39;00m \u001B[38;5;21mexecute\u001B[39m(\u001B[38;5;28mself\u001B[39m, wait: \u001B[38;5;28mbool\u001B[39m \u001B[38;5;241m=\u001B[39m \u001B[38;5;28;01mTrue\u001B[39;00m) \u001B[38;5;241m-\u001B[39m\u001B[38;5;241m>\u001B[39m MoveResult:\n\u001B[1;32m   2125\u001B[0m \u001B[38;5;250m    \u001B[39m\u001B[38;5;124;03m\"\"\"\u001B[39;00m\n\u001B[1;32m   2126\u001B[0m \u001B[38;5;124;03m    :param wait: this function blocks if wait=True\u001B[39;00m\n\u001B[1;32m   2127\u001B[0m \u001B[38;5;124;03m    :return: result from giskard\u001B[39;00m\n\u001B[1;32m   2128\u001B[0m \u001B[38;5;124;03m    \"\"\"\u001B[39;00m\n\u001B[0;32m-> 2129\u001B[0m     \u001B[38;5;28;01mreturn\u001B[39;00m \u001B[38;5;28;43mself\u001B[39;49m\u001B[38;5;241;43m.\u001B[39;49m\u001B[43m_send_action_goal\u001B[49m\u001B[43m(\u001B[49m\u001B[43mMoveGoal\u001B[49m\u001B[38;5;241;43m.\u001B[39;49m\u001B[43mEXECUTE\u001B[49m\u001B[43m,\u001B[49m\u001B[43m \u001B[49m\u001B[43mwait\u001B[49m\u001B[43m)\u001B[49m\n",
      "File \u001B[0;32m~/workspace/new_giskard_ws/src/giskardpy/src/giskardpy/python_interface/python_interface.py:2150\u001B[0m, in \u001B[0;36mGiskardWrapper._send_action_goal\u001B[0;34m(self, goal_type, wait)\u001B[0m\n\u001B[1;32m   2148\u001B[0m goal\u001B[38;5;241m.\u001B[39mtype \u001B[38;5;241m=\u001B[39m goal_type\n\u001B[1;32m   2149\u001B[0m \u001B[38;5;28;01mif\u001B[39;00m wait:\n\u001B[0;32m-> 2150\u001B[0m     \u001B[38;5;28;43mself\u001B[39;49m\u001B[38;5;241;43m.\u001B[39;49m\u001B[43m_client\u001B[49m\u001B[38;5;241;43m.\u001B[39;49m\u001B[43msend_goal_and_wait\u001B[49m\u001B[43m(\u001B[49m\u001B[43mgoal\u001B[49m\u001B[43m)\u001B[49m\n\u001B[1;32m   2151\u001B[0m     result \u001B[38;5;241m=\u001B[39m \u001B[38;5;28mself\u001B[39m\u001B[38;5;241m.\u001B[39m_client\u001B[38;5;241m.\u001B[39mget_result()\n\u001B[1;32m   2152\u001B[0m     \u001B[38;5;28mself\u001B[39m\u001B[38;5;241m.\u001B[39mlast_execution_state \u001B[38;5;241m=\u001B[39m result\n",
      "File \u001B[0;32m/opt/ros/noetic/lib/python3/dist-packages/actionlib/simple_action_client.py:111\u001B[0m, in \u001B[0;36mSimpleActionClient.send_goal_and_wait\u001B[0;34m(self, goal, execute_timeout, preempt_timeout)\u001B[0m\n\u001B[1;32m    109\u001B[0m \u001B[38;5;28;01mdef\u001B[39;00m \u001B[38;5;21msend_goal_and_wait\u001B[39m(\u001B[38;5;28mself\u001B[39m, goal, execute_timeout\u001B[38;5;241m=\u001B[39mrospy\u001B[38;5;241m.\u001B[39mDuration(), preempt_timeout\u001B[38;5;241m=\u001B[39mrospy\u001B[38;5;241m.\u001B[39mDuration()):\n\u001B[1;32m    110\u001B[0m     \u001B[38;5;28mself\u001B[39m\u001B[38;5;241m.\u001B[39msend_goal(goal)\n\u001B[0;32m--> 111\u001B[0m     \u001B[38;5;28;01mif\u001B[39;00m \u001B[38;5;129;01mnot\u001B[39;00m \u001B[38;5;28;43mself\u001B[39;49m\u001B[38;5;241;43m.\u001B[39;49m\u001B[43mwait_for_result\u001B[49m\u001B[43m(\u001B[49m\u001B[43mexecute_timeout\u001B[49m\u001B[43m)\u001B[49m:\n\u001B[1;32m    112\u001B[0m         \u001B[38;5;66;03m# preempt action\u001B[39;00m\n\u001B[1;32m    113\u001B[0m         rospy\u001B[38;5;241m.\u001B[39mlogdebug(\u001B[38;5;124m\"\u001B[39m\u001B[38;5;124mCanceling goal\u001B[39m\u001B[38;5;124m\"\u001B[39m)\n\u001B[1;32m    114\u001B[0m         \u001B[38;5;28mself\u001B[39m\u001B[38;5;241m.\u001B[39mcancel_goal()\n",
      "File \u001B[0;32m/opt/ros/noetic/lib/python3/dist-packages/actionlib/simple_action_client.py:143\u001B[0m, in \u001B[0;36mSimpleActionClient.wait_for_result\u001B[0;34m(self, timeout)\u001B[0m\n\u001B[1;32m    140\u001B[0m         \u001B[38;5;28;01mif\u001B[39;00m time_left \u001B[38;5;241m>\u001B[39m loop_period \u001B[38;5;129;01mor\u001B[39;00m timeout \u001B[38;5;241m==\u001B[39m rospy\u001B[38;5;241m.\u001B[39mDuration():\n\u001B[1;32m    141\u001B[0m             time_left \u001B[38;5;241m=\u001B[39m loop_period\n\u001B[0;32m--> 143\u001B[0m         \u001B[38;5;28;43mself\u001B[39;49m\u001B[38;5;241;43m.\u001B[39;49m\u001B[43mdone_condition\u001B[49m\u001B[38;5;241;43m.\u001B[39;49m\u001B[43mwait\u001B[49m\u001B[43m(\u001B[49m\u001B[43mtime_left\u001B[49m\u001B[38;5;241;43m.\u001B[39;49m\u001B[43mto_sec\u001B[49m\u001B[43m(\u001B[49m\u001B[43m)\u001B[49m\u001B[43m)\u001B[49m\n\u001B[1;32m    145\u001B[0m \u001B[38;5;28;01mreturn\u001B[39;00m \u001B[38;5;28mself\u001B[39m\u001B[38;5;241m.\u001B[39msimple_state \u001B[38;5;241m==\u001B[39m SimpleGoalState\u001B[38;5;241m.\u001B[39mDONE\n",
      "File \u001B[0;32m/usr/lib/python3.8/threading.py:306\u001B[0m, in \u001B[0;36mCondition.wait\u001B[0;34m(self, timeout)\u001B[0m\n\u001B[1;32m    304\u001B[0m \u001B[38;5;28;01melse\u001B[39;00m:\n\u001B[1;32m    305\u001B[0m     \u001B[38;5;28;01mif\u001B[39;00m timeout \u001B[38;5;241m>\u001B[39m \u001B[38;5;241m0\u001B[39m:\n\u001B[0;32m--> 306\u001B[0m         gotit \u001B[38;5;241m=\u001B[39m \u001B[43mwaiter\u001B[49m\u001B[38;5;241;43m.\u001B[39;49m\u001B[43macquire\u001B[49m\u001B[43m(\u001B[49m\u001B[38;5;28;43;01mTrue\u001B[39;49;00m\u001B[43m,\u001B[49m\u001B[43m \u001B[49m\u001B[43mtimeout\u001B[49m\u001B[43m)\u001B[49m\n\u001B[1;32m    307\u001B[0m     \u001B[38;5;28;01melse\u001B[39;00m:\n\u001B[1;32m    308\u001B[0m         gotit \u001B[38;5;241m=\u001B[39m waiter\u001B[38;5;241m.\u001B[39macquire(\u001B[38;5;28;01mFalse\u001B[39;00m)\n",
      "\u001B[0;31mKeyboardInterrupt\u001B[0m: "
     ]
    }
   ],
   "source": [
    "# giskard.set_avoid_name_conflict(False)\n",
    "goal_pose = PoseStamped()\n",
    "goal_pose.header.frame_id = 'map'\n",
    "goal_pose.pose.orientation = Quaternion(*quaternion_from_matrix([[0, 0, 1, 0],\n",
    "                                                                 [0, -1, 0, 0],\n",
    "                                                                 [1, 0, 0, 0],\n",
    "                                                                 [0, 0, 0, 1]]))\n",
    "goal_pose.pose.position.x = 1.95\n",
    "goal_pose.pose.position.y = -0.6\n",
    "goal_pose.pose.position.z = 0.7\n",
    "giskard.motion_goals.add_cartesian_pose(goal_pose, 'hand_palm_link', 'map')\n",
    "giskard.motion_goals.allow_all_collisions()\n",
    "giskard.add_default_end_motion_conditions()\n",
    "giskard.execute()\n",
    "\n",
    "#######\n",
    "robot_feature = PointStamped()\n",
    "robot_feature.header.frame_id = 'hand_palm_link'\n",
    "robot_feature.point = Point(0, 0, 0)\n",
    "\n",
    "robot_up_axis = Vector3Stamped()\n",
    "robot_up_axis.header.frame_id = 'hand_palm_link'\n",
    "robot_up_axis.vector.x = 1\n",
    "\n",
    "robot_pointing_axis = Vector3Stamped()\n",
    "robot_pointing_axis.header.frame_id = 'hand_palm_link'\n",
    "robot_pointing_axis.vector.z = 1\n",
    "\n",
    "# Define the world features (center and z-axis of the bowl)\n",
    "\n",
    "world_feature2 = PointStamped()\n",
    "world_feature2.header.frame_id = 'map'\n",
    "world_feature2.point = Point(2, -0.2, 0.29)\n",
    "\n",
    "world_up_axis = Vector3Stamped()\n",
    "world_up_axis.header.frame_id = 'map'\n",
    "world_up_axis.vector.z = 1\n",
    "\n",
    "start_spiral = PointStamped()\n",
    "start_spiral.header.frame_id = 'map'\n",
    "start_spiral.point = Point(2, -0.2, 0.45)\n",
    "\n",
    "seq = [\n",
    "    [\n",
    "        ['distance', world_feature2, robot_feature, 0.00, 0.02],\n",
    "        ['height', world_feature2, robot_feature, 0.25, 0.30],\n",
    "        ['align', world_up_axis, robot_up_axis]\n",
    "    ],\n",
    "    [\n",
    "        ['height', world_feature2, robot_feature, 0.15, 0.16],\n",
    "        ['mixing', start_spiral, world_up_axis, 0.05, 25],\n",
    "        ['angle', world_up_axis, robot_up_axis, 0.0, 0.4],\n",
    "        ['force', 2, '/mujoco/sensors_3D']\n",
    "    ],\n",
    "    [\n",
    "        ['distance', world_feature2, robot_feature, 0.00, 0.05],\n",
    "        ['height', world_feature2, robot_feature, 0.25, 0.3],\n",
    "        ['align', world_up_axis, robot_up_axis]\n",
    "    ],\n",
    "]\n",
    "\n",
    "giskard.create_tcmp_controller(tip_link='hand_palm_link', root_link='map',\n",
    "                                 sequence=seq, max_vel=0.2)\n",
    "\n",
    "giskard.monitors.add_max_trajectory_length(60)\n",
    "result = giskard.execute()\n",
    "if result.error.code != GiskardError.SUCCESS:\n",
    "    print(giskard.get_end_motion_reason(move_result=result, show_all=False))"
   ]
  },
  {
   "cell_type": "code",
   "execution_count": null,
   "metadata": {
    "collapsed": false,
    "pycharm": {
     "name": "#%%\n"
    }
   },
   "outputs": [],
   "source": []
  }
 ],
 "metadata": {
  "kernelspec": {
   "display_name": "Python 3",
   "language": "python",
   "name": "python3"
  },
  "language_info": {
   "codemirror_mode": {
    "name": "ipython",
    "version": 2
   },
   "file_extension": ".py",
   "mimetype": "text/x-python",
   "name": "python",
   "nbconvert_exporter": "python",
   "pygments_lexer": "ipython2",
   "version": "2.7.6"
  }
 },
 "nbformat": 4,
 "nbformat_minor": 0
}